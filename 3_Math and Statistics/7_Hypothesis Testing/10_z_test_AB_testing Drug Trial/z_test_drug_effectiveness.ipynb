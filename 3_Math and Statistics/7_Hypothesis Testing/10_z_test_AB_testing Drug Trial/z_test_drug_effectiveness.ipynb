{
 "cells": [
  {
   "cell_type": "markdown",
   "id": "21884a98",
   "metadata": {},
   "source": [
    "<h1 align=\"center\">A/B Testing To Measure Drug Effectiveness</h1>"
   ]
  },
  {
   "cell_type": "markdown",
   "id": "0aa31ecd",
   "metadata": {},
   "source": [
    "In this notebook, we will show how to conduct A/B testings using a two sample Z test.\n",
    "There is a drug A in the market that removes the headache in X number of hours. New drug B is being developed in this same pharma company and their hypothesis is that B can reduce the headache in less number of hours (i.e Recovery time for drug B is better compared to drug A). We have conducted the clinical trail and the results are available in the csv file"
   ]
  },
  {
   "cell_type": "code",
   "execution_count": 47,
   "id": "183adde5",
   "metadata": {},
   "outputs": [],
   "source": [
    "import pandas as pd\n",
    "import numpy as np\n",
    "from scipy import stats as st"
   ]
  },
  {
   "cell_type": "code",
   "execution_count": 39,
   "id": "250fe7af",
   "metadata": {},
   "outputs": [
    {
     "data": {
      "text/html": [
       "<div>\n",
       "<style scoped>\n",
       "    .dataframe tbody tr th:only-of-type {\n",
       "        vertical-align: middle;\n",
       "    }\n",
       "\n",
       "    .dataframe tbody tr th {\n",
       "        vertical-align: top;\n",
       "    }\n",
       "\n",
       "    .dataframe thead th {\n",
       "        text-align: right;\n",
       "    }\n",
       "</style>\n",
       "<table border=\"1\" class=\"dataframe\">\n",
       "  <thead>\n",
       "    <tr style=\"text-align: right;\">\n",
       "      <th></th>\n",
       "      <th>person_id</th>\n",
       "      <th>recovery_time_hrs</th>\n",
       "    </tr>\n",
       "  </thead>\n",
       "  <tbody>\n",
       "    <tr>\n",
       "      <th>0</th>\n",
       "      <td>C001</td>\n",
       "      <td>4.4</td>\n",
       "    </tr>\n",
       "    <tr>\n",
       "      <th>1</th>\n",
       "      <td>C002</td>\n",
       "      <td>4.1</td>\n",
       "    </tr>\n",
       "    <tr>\n",
       "      <th>2</th>\n",
       "      <td>C003</td>\n",
       "      <td>3.2</td>\n",
       "    </tr>\n",
       "    <tr>\n",
       "      <th>3</th>\n",
       "      <td>C004</td>\n",
       "      <td>4.3</td>\n",
       "    </tr>\n",
       "    <tr>\n",
       "      <th>4</th>\n",
       "      <td>C005</td>\n",
       "      <td>4.9</td>\n",
       "    </tr>\n",
       "  </tbody>\n",
       "</table>\n",
       "</div>"
      ],
      "text/plain": [
       "  person_id  recovery_time_hrs\n",
       "0      C001                4.4\n",
       "1      C002                4.1\n",
       "2      C003                3.2\n",
       "3      C004                4.3\n",
       "4      C005                4.9"
      ]
     },
     "execution_count": 39,
     "metadata": {},
     "output_type": "execute_result"
    }
   ],
   "source": [
    "control = pd.read_csv(\"control_group.csv\")\n",
    "control.head()"
   ]
  },
  {
   "cell_type": "code",
   "execution_count": 40,
   "id": "60b78def",
   "metadata": {},
   "outputs": [
    {
     "data": {
      "text/html": [
       "<div>\n",
       "<style scoped>\n",
       "    .dataframe tbody tr th:only-of-type {\n",
       "        vertical-align: middle;\n",
       "    }\n",
       "\n",
       "    .dataframe tbody tr th {\n",
       "        vertical-align: top;\n",
       "    }\n",
       "\n",
       "    .dataframe thead th {\n",
       "        text-align: right;\n",
       "    }\n",
       "</style>\n",
       "<table border=\"1\" class=\"dataframe\">\n",
       "  <thead>\n",
       "    <tr style=\"text-align: right;\">\n",
       "      <th></th>\n",
       "      <th>person_id</th>\n",
       "      <th>recovery_time_hrs</th>\n",
       "    </tr>\n",
       "  </thead>\n",
       "  <tbody>\n",
       "    <tr>\n",
       "      <th>0</th>\n",
       "      <td>T001</td>\n",
       "      <td>3.7</td>\n",
       "    </tr>\n",
       "    <tr>\n",
       "      <th>1</th>\n",
       "      <td>T002</td>\n",
       "      <td>4.1</td>\n",
       "    </tr>\n",
       "    <tr>\n",
       "      <th>2</th>\n",
       "      <td>T003</td>\n",
       "      <td>3.7</td>\n",
       "    </tr>\n",
       "    <tr>\n",
       "      <th>3</th>\n",
       "      <td>T004</td>\n",
       "      <td>3.9</td>\n",
       "    </tr>\n",
       "    <tr>\n",
       "      <th>4</th>\n",
       "      <td>T005</td>\n",
       "      <td>3.7</td>\n",
       "    </tr>\n",
       "  </tbody>\n",
       "</table>\n",
       "</div>"
      ],
      "text/plain": [
       "  person_id  recovery_time_hrs\n",
       "0      T001                3.7\n",
       "1      T002                4.1\n",
       "2      T003                3.7\n",
       "3      T004                3.9\n",
       "4      T005                3.7"
      ]
     },
     "execution_count": 40,
     "metadata": {},
     "output_type": "execute_result"
    }
   ],
   "source": [
    "test = pd.read_csv(\"test_group.csv\")\n",
    "test.head()"
   ]
  },
  {
   "cell_type": "code",
   "execution_count": 41,
   "id": "91410b0e",
   "metadata": {},
   "outputs": [
    {
     "data": {
      "text/plain": [
       "(4.0, 0.48, 130)"
      ]
     },
     "execution_count": 41,
     "metadata": {},
     "output_type": "execute_result"
    }
   ],
   "source": [
    "control_mean = control.recovery_time_hrs.mean().round(2)\n",
    "control_std = control.recovery_time_hrs.std().round(2)\n",
    "control_size = control.shape[0]\n",
    "control_mean, control_std, control_size"
   ]
  },
  {
   "cell_type": "code",
   "execution_count": 42,
   "id": "c2ee53aa",
   "metadata": {},
   "outputs": [
    {
     "data": {
      "text/plain": [
       "(3.91, 0.32, 100)"
      ]
     },
     "execution_count": 42,
     "metadata": {},
     "output_type": "execute_result"
    }
   ],
   "source": [
    "test_mean = test.recovery_time_hrs.mean().round(2)\n",
    "test_std = test.recovery_time_hrs.std().round(2)\n",
    "test_size = test.shape[0] \n",
    "test_mean, test_std, test_size"
   ]
  },
  {
   "cell_type": "markdown",
   "id": "77cbb707",
   "metadata": {},
   "source": [
    "### Hypothesis\n",
    "\n",
    "1. Null Hypothesis (H0): No improvement in recovery time in the test group (mean_control <= mean_test)\n",
    "1. Alternate Hypothesis (H1): Improvement in recovery time in the test group (mean_control > mean_test)\n",
    "\n",
    "This is a right-tailed test since we are testing if the mean of the test group is significantly lower than the control group.\n"
   ]
  },
  {
   "cell_type": "markdown",
   "id": "12bf744c",
   "metadata": {},
   "source": [
    "### Test Using Rejection Region (i.e. Critical Z Value)"
   ]
  },
  {
   "cell_type": "code",
   "execution_count": 59,
   "id": "c2d92a4e",
   "metadata": {},
   "outputs": [
    {
     "data": {
      "text/plain": [
       "1.701962671923127"
      ]
     },
     "execution_count": 59,
     "metadata": {},
     "output_type": "execute_result"
    }
   ],
   "source": [
    "a = (control_std**2/control_size)\n",
    "b = (test_std**2/test_size)\n",
    "\n",
    "Z_score = (control_mean-test_mean)/np.sqrt(a+b)\n",
    "Z_score"
   ]
  },
  {
   "cell_type": "code",
   "execution_count": 60,
   "id": "eb66e4a7",
   "metadata": {},
   "outputs": [
    {
     "data": {
      "text/plain": [
       "1.6448536269514722"
      ]
     },
     "execution_count": 60,
     "metadata": {},
     "output_type": "execute_result"
    }
   ],
   "source": [
    "# For a significance level of 5% (0.05) in a right-tailed test, the critical Z-value is approximately 1.645\n",
    "\n",
    "alpha = 0.05 # significance level of 5%\n",
    "\n",
    "critical_z_value = st.norm.ppf(1 - alpha)  # Right-tailed test at 5% significance level\n",
    "critical_z_value"
   ]
  },
  {
   "cell_type": "code",
   "execution_count": 55,
   "id": "8b7844ae",
   "metadata": {},
   "outputs": [
    {
     "data": {
      "text/plain": [
       "True"
      ]
     },
     "execution_count": 55,
     "metadata": {},
     "output_type": "execute_result"
    }
   ],
   "source": [
    "Z_score > critical_z_value"
   ]
  },
  {
   "cell_type": "markdown",
   "id": "cd534e43",
   "metadata": {},
   "source": [
    "As you can see above, since the Z score is higher than the critical z value, it falls inside the rejection region. Hence we will reject our null hypothesis and accept that alternate hypothesis that the new drug indeed reduces the recovery time for the headache"
   ]
  },
  {
   "cell_type": "markdown",
   "id": "a91c3fbe",
   "metadata": {},
   "source": [
    "### Test Using p-Value"
   ]
  },
  {
   "cell_type": "code",
   "execution_count": 56,
   "id": "1a263308",
   "metadata": {},
   "outputs": [
    {
     "data": {
      "text/plain": [
       "0.0443811829929599"
      ]
     },
     "execution_count": 56,
     "metadata": {},
     "output_type": "execute_result"
    }
   ],
   "source": [
    "# Calculate the p-value corresponding to z score for a right-tailed test\n",
    "p_value = 1 - st.norm.cdf(Z_score)\n",
    "p_value"
   ]
  },
  {
   "cell_type": "code",
   "execution_count": 62,
   "id": "372f8558",
   "metadata": {},
   "outputs": [
    {
     "data": {
      "text/plain": [
       "True"
      ]
     },
     "execution_count": 62,
     "metadata": {},
     "output_type": "execute_result"
    }
   ],
   "source": [
    "p_value < alpha # p value is less than significance level of 5% (or 0.05 for absolute value)"
   ]
  },
  {
   "cell_type": "markdown",
   "id": "a507bf96",
   "metadata": {},
   "source": [
    "As you can see above, calculated p value is less than 5% significance level. Hence we will reject our null hypothesis and accept that alternate hypothesis that the new drug indeed reduces the recovery time for the headache"
   ]
  }
 ],
 "metadata": {
  "kernelspec": {
   "display_name": "Python 3 (ipykernel)",
   "language": "python",
   "name": "python3"
  },
  "language_info": {
   "codemirror_mode": {
    "name": "ipython",
    "version": 3
   },
   "file_extension": ".py",
   "mimetype": "text/x-python",
   "name": "python",
   "nbconvert_exporter": "python",
   "pygments_lexer": "ipython3",
   "version": "3.10.11"
  }
 },
 "nbformat": 4,
 "nbformat_minor": 5
}
