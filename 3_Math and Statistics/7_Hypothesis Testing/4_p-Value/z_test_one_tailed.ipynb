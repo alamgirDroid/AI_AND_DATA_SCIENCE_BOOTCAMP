{
 "cells": [
  {
   "cell_type": "markdown",
   "id": "ffcc9fdc",
   "metadata": {},
   "source": [
    "<h1 align=\"center\">Z Test Tutorial: One Tailed Test</h1>"
   ]
  },
  {
   "cell_type": "code",
   "execution_count": 31,
   "id": "7121f60a",
   "metadata": {},
   "outputs": [],
   "source": [
    "import pandas as pd\n",
    "import numpy as np"
   ]
  },
  {
   "cell_type": "markdown",
   "id": "8e8629e5",
   "metadata": {},
   "source": [
    "### Null Hypothesis: Housing inflation is 10%\n",
    "### Alternate Hypothesis: Housing inflation is > 10%\n",
    "\n",
    "\n",
    "For this test, we have collected a sample of 100 home prices inflation numbers. We will load that in pandas dataframe"
   ]
  },
  {
   "cell_type": "code",
   "execution_count": 2,
   "id": "69a4873c",
   "metadata": {},
   "outputs": [
    {
     "data": {
      "text/html": [
       "<div>\n",
       "<style scoped>\n",
       "    .dataframe tbody tr th:only-of-type {\n",
       "        vertical-align: middle;\n",
       "    }\n",
       "\n",
       "    .dataframe tbody tr th {\n",
       "        vertical-align: top;\n",
       "    }\n",
       "\n",
       "    .dataframe thead th {\n",
       "        text-align: right;\n",
       "    }\n",
       "</style>\n",
       "<table border=\"1\" class=\"dataframe\">\n",
       "  <thead>\n",
       "    <tr style=\"text-align: right;\">\n",
       "      <th></th>\n",
       "      <th>house_id</th>\n",
       "      <th>price_increase_pct</th>\n",
       "    </tr>\n",
       "  </thead>\n",
       "  <tbody>\n",
       "    <tr>\n",
       "      <th>0</th>\n",
       "      <td>NJ001</td>\n",
       "      <td>12.7</td>\n",
       "    </tr>\n",
       "    <tr>\n",
       "      <th>1</th>\n",
       "      <td>NJ002</td>\n",
       "      <td>11.3</td>\n",
       "    </tr>\n",
       "    <tr>\n",
       "      <th>2</th>\n",
       "      <td>NJ003</td>\n",
       "      <td>11.9</td>\n",
       "    </tr>\n",
       "    <tr>\n",
       "      <th>3</th>\n",
       "      <td>NJ004</td>\n",
       "      <td>13.2</td>\n",
       "    </tr>\n",
       "    <tr>\n",
       "      <th>4</th>\n",
       "      <td>NJ005</td>\n",
       "      <td>12.8</td>\n",
       "    </tr>\n",
       "  </tbody>\n",
       "</table>\n",
       "</div>"
      ],
      "text/plain": [
       "  house_id  price_increase_pct\n",
       "0    NJ001                12.7\n",
       "1    NJ002                11.3\n",
       "2    NJ003                11.9\n",
       "3    NJ004                13.2\n",
       "4    NJ005                12.8"
      ]
     },
     "execution_count": 2,
     "metadata": {},
     "output_type": "execute_result"
    }
   ],
   "source": [
    "df = pd.read_csv(\"house_price_increase.csv\")\n",
    "df.head()"
   ]
  },
  {
   "cell_type": "code",
   "execution_count": 3,
   "id": "4e7e8e6a",
   "metadata": {},
   "outputs": [
    {
     "data": {
      "text/plain": [
       "(100, 2)"
      ]
     },
     "execution_count": 3,
     "metadata": {},
     "output_type": "execute_result"
    }
   ],
   "source": [
    "df.shape"
   ]
  },
  {
   "cell_type": "code",
   "execution_count": 4,
   "id": "107781a5",
   "metadata": {},
   "outputs": [],
   "source": [
    "population_mean = 10\n",
    "population_std_dev = 4"
   ]
  },
  {
   "cell_type": "code",
   "execution_count": 5,
   "id": "349665e1",
   "metadata": {},
   "outputs": [
    {
     "data": {
      "text/plain": [
       "11.0"
      ]
     },
     "execution_count": 5,
     "metadata": {},
     "output_type": "execute_result"
    }
   ],
   "source": [
    "sample_mean = df.price_increase_pct.mean()\n",
    "sample_mean"
   ]
  },
  {
   "cell_type": "code",
   "execution_count": 6,
   "id": "57796327",
   "metadata": {},
   "outputs": [
    {
     "data": {
      "text/plain": [
       "100"
      ]
     },
     "execution_count": 6,
     "metadata": {},
     "output_type": "execute_result"
    }
   ],
   "source": [
    "sample_size = df.shape[0]\n",
    "sample_size"
   ]
  },
  {
   "cell_type": "code",
   "execution_count": 8,
   "id": "c0e050c7",
   "metadata": {},
   "outputs": [
    {
     "data": {
      "text/plain": [
       "0.4"
      ]
     },
     "execution_count": 8,
     "metadata": {},
     "output_type": "execute_result"
    }
   ],
   "source": [
    "standard_error = population_std_dev/np.sqrt(sample_size)\n",
    "standard_error"
   ]
  },
  {
   "cell_type": "code",
   "execution_count": 13,
   "id": "34e07fa2",
   "metadata": {
    "scrolled": true
   },
   "outputs": [
    {
     "data": {
      "text/plain": [
       "2.5"
      ]
     },
     "execution_count": 13,
     "metadata": {},
     "output_type": "execute_result"
    }
   ],
   "source": [
    "z_score = (sample_mean-population_mean)/standard_error\n",
    "z_score"
   ]
  },
  {
   "cell_type": "markdown",
   "id": "6c952ba9",
   "metadata": {},
   "source": [
    "We define significance level (alpha) to be 5%."
   ]
  },
  {
   "cell_type": "code",
   "execution_count": 30,
   "id": "65748605",
   "metadata": {},
   "outputs": [],
   "source": [
    "alpha = 0.05 # alpha means significance level"
   ]
  },
  {
   "cell_type": "markdown",
   "id": "f59df892",
   "metadata": {},
   "source": [
    "### Z Test Using Rejection Region"
   ]
  },
  {
   "cell_type": "code",
   "execution_count": 28,
   "id": "235c4c33",
   "metadata": {},
   "outputs": [
    {
     "data": {
      "text/plain": [
       "1.6448536269514722"
      ]
     },
     "execution_count": 28,
     "metadata": {},
     "output_type": "execute_result"
    }
   ],
   "source": [
    "from scipy import stats\n",
    "\n",
    "z_critical = stats.norm.ppf(1-alpha) # get z score from the area probability\n",
    "z_critical"
   ]
  },
  {
   "cell_type": "code",
   "execution_count": 21,
   "id": "6ee474db",
   "metadata": {},
   "outputs": [
    {
     "data": {
      "text/plain": [
       "(2.5, 1.6448536269514722)"
      ]
     },
     "execution_count": 21,
     "metadata": {},
     "output_type": "execute_result"
    }
   ],
   "source": [
    "z_score, z_critical"
   ]
  },
  {
   "cell_type": "markdown",
   "id": "e10ac402",
   "metadata": {},
   "source": [
    "Since z_score > z_critical, we will reject the NULL hypothesis. This means the alternate hypothesis becomes true which means the inflation is indeed higher than 10%"
   ]
  },
  {
   "cell_type": "markdown",
   "id": "e5130b07",
   "metadata": {},
   "source": [
    "### Z Test Using p-Value"
   ]
  },
  {
   "cell_type": "code",
   "execution_count": 22,
   "id": "b9973783",
   "metadata": {},
   "outputs": [
    {
     "data": {
      "text/plain": [
       "0.9937903346742238"
      ]
     },
     "execution_count": 22,
     "metadata": {},
     "output_type": "execute_result"
    }
   ],
   "source": [
    "from scipy import stats\n",
    "\n",
    "stats.norm.cdf(z_score)"
   ]
  },
  {
   "cell_type": "code",
   "execution_count": 26,
   "id": "1434f7e3",
   "metadata": {},
   "outputs": [
    {
     "data": {
      "text/plain": [
       "0.006209665325776159"
      ]
     },
     "execution_count": 26,
     "metadata": {},
     "output_type": "execute_result"
    }
   ],
   "source": [
    "p_value = 1 - stats.norm.cdf(z_score) # get p value from z score\n",
    "p_value"
   ]
  },
  {
   "cell_type": "code",
   "execution_count": 29,
   "id": "3e19f570",
   "metadata": {},
   "outputs": [
    {
     "data": {
      "text/plain": [
       "(0.006209665325776159, 0.05)"
      ]
     },
     "execution_count": 29,
     "metadata": {},
     "output_type": "execute_result"
    }
   ],
   "source": [
    "p_value, alpha"
   ]
  },
  {
   "cell_type": "markdown",
   "id": "4e518db9",
   "metadata": {},
   "source": [
    "Since P value (0.006) is less than alpha (i.e. significance level -> 0.05), we reject the null hypothesis. This means there is statistically significant evidence to support the claim that the inflation rate in house prices is higher than the reported 10%."
   ]
  }
 ],
 "metadata": {
  "kernelspec": {
   "display_name": "Python 3 (ipykernel)",
   "language": "python",
   "name": "python3"
  },
  "language_info": {
   "codemirror_mode": {
    "name": "ipython",
    "version": 3
   },
   "file_extension": ".py",
   "mimetype": "text/x-python",
   "name": "python",
   "nbconvert_exporter": "python",
   "pygments_lexer": "ipython3",
   "version": "3.10.11"
  }
 },
 "nbformat": 4,
 "nbformat_minor": 5
}
