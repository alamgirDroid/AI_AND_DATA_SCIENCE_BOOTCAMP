{
 "cells": [
  {
   "cell_type": "markdown",
   "id": "cd8fd639",
   "metadata": {},
   "source": [
    "<h1 align=\"center\">Z Test Tutorial: Two Tailed Test</h1>"
   ]
  },
  {
   "cell_type": "code",
   "execution_count": 1,
   "id": "76842719",
   "metadata": {},
   "outputs": [],
   "source": [
    "import pandas as pd\n",
    "import numpy as np"
   ]
  },
  {
   "cell_type": "markdown",
   "id": "33265774",
   "metadata": {},
   "source": [
    "### Null Hypothesis: Housing inflation is 10%\n",
    "### Alternate Hypothesis: Housing inflation is NOT 10%\n",
    "\n",
    "\n",
    "For this test, we have collected a sample of 100 home prices inflation numbers. We will load that in pandas dataframe"
   ]
  },
  {
   "cell_type": "code",
   "execution_count": 2,
   "id": "ae2bdf08",
   "metadata": {},
   "outputs": [
    {
     "data": {
      "text/html": [
       "<div>\n",
       "<style scoped>\n",
       "    .dataframe tbody tr th:only-of-type {\n",
       "        vertical-align: middle;\n",
       "    }\n",
       "\n",
       "    .dataframe tbody tr th {\n",
       "        vertical-align: top;\n",
       "    }\n",
       "\n",
       "    .dataframe thead th {\n",
       "        text-align: right;\n",
       "    }\n",
       "</style>\n",
       "<table border=\"1\" class=\"dataframe\">\n",
       "  <thead>\n",
       "    <tr style=\"text-align: right;\">\n",
       "      <th></th>\n",
       "      <th>house_id</th>\n",
       "      <th>price_increase_pct</th>\n",
       "    </tr>\n",
       "  </thead>\n",
       "  <tbody>\n",
       "    <tr>\n",
       "      <th>0</th>\n",
       "      <td>NJ001</td>\n",
       "      <td>12.7</td>\n",
       "    </tr>\n",
       "    <tr>\n",
       "      <th>1</th>\n",
       "      <td>NJ002</td>\n",
       "      <td>11.3</td>\n",
       "    </tr>\n",
       "    <tr>\n",
       "      <th>2</th>\n",
       "      <td>NJ003</td>\n",
       "      <td>11.9</td>\n",
       "    </tr>\n",
       "    <tr>\n",
       "      <th>3</th>\n",
       "      <td>NJ004</td>\n",
       "      <td>13.2</td>\n",
       "    </tr>\n",
       "    <tr>\n",
       "      <th>4</th>\n",
       "      <td>NJ005</td>\n",
       "      <td>12.8</td>\n",
       "    </tr>\n",
       "  </tbody>\n",
       "</table>\n",
       "</div>"
      ],
      "text/plain": [
       "  house_id  price_increase_pct\n",
       "0    NJ001                12.7\n",
       "1    NJ002                11.3\n",
       "2    NJ003                11.9\n",
       "3    NJ004                13.2\n",
       "4    NJ005                12.8"
      ]
     },
     "execution_count": 2,
     "metadata": {},
     "output_type": "execute_result"
    }
   ],
   "source": [
    "df = pd.read_csv(\"house_price_increase.csv\")\n",
    "df.head()"
   ]
  },
  {
   "cell_type": "code",
   "execution_count": 3,
   "id": "31b8046e",
   "metadata": {},
   "outputs": [
    {
     "data": {
      "text/plain": [
       "(100, 2)"
      ]
     },
     "execution_count": 3,
     "metadata": {},
     "output_type": "execute_result"
    }
   ],
   "source": [
    "df.shape"
   ]
  },
  {
   "cell_type": "code",
   "execution_count": 4,
   "id": "8a444195",
   "metadata": {},
   "outputs": [],
   "source": [
    "population_mean = 10\n",
    "population_std_dev = 4"
   ]
  },
  {
   "cell_type": "code",
   "execution_count": 5,
   "id": "4c05ec90",
   "metadata": {},
   "outputs": [
    {
     "data": {
      "text/plain": [
       "11.0"
      ]
     },
     "execution_count": 5,
     "metadata": {},
     "output_type": "execute_result"
    }
   ],
   "source": [
    "sample_mean = df.price_increase_pct.mean()\n",
    "sample_mean"
   ]
  },
  {
   "cell_type": "code",
   "execution_count": 6,
   "id": "802ac02b",
   "metadata": {},
   "outputs": [
    {
     "data": {
      "text/plain": [
       "100"
      ]
     },
     "execution_count": 6,
     "metadata": {},
     "output_type": "execute_result"
    }
   ],
   "source": [
    "sample_size = df.shape[0]\n",
    "sample_size"
   ]
  },
  {
   "cell_type": "code",
   "execution_count": 7,
   "id": "270b0ebf",
   "metadata": {},
   "outputs": [
    {
     "data": {
      "text/plain": [
       "0.4"
      ]
     },
     "execution_count": 7,
     "metadata": {},
     "output_type": "execute_result"
    }
   ],
   "source": [
    "standard_error = population_std_dev/np.sqrt(sample_size)\n",
    "standard_error"
   ]
  },
  {
   "cell_type": "code",
   "execution_count": 8,
   "id": "e948b81a",
   "metadata": {
    "scrolled": true
   },
   "outputs": [
    {
     "data": {
      "text/plain": [
       "2.5"
      ]
     },
     "execution_count": 8,
     "metadata": {},
     "output_type": "execute_result"
    }
   ],
   "source": [
    "z_score = (sample_mean-population_mean)/standard_error\n",
    "z_score"
   ]
  },
  {
   "cell_type": "markdown",
   "id": "3eab340a",
   "metadata": {},
   "source": [
    "We define significance level (alpha) to be 5%."
   ]
  },
  {
   "cell_type": "code",
   "execution_count": 9,
   "id": "1a52ede0",
   "metadata": {},
   "outputs": [],
   "source": [
    "alpha = 0.05 # alpha means significance level"
   ]
  },
  {
   "cell_type": "markdown",
   "id": "bddab898",
   "metadata": {},
   "source": [
    "### Z Test Using Rejection Region"
   ]
  },
  {
   "cell_type": "code",
   "execution_count": 10,
   "id": "7baad2cd",
   "metadata": {},
   "outputs": [
    {
     "data": {
      "text/plain": [
       "1.959963984540054"
      ]
     },
     "execution_count": 10,
     "metadata": {},
     "output_type": "execute_result"
    }
   ],
   "source": [
    "from scipy import stats\n",
    "\n",
    "z_critical = stats.norm.ppf(1-alpha/2) # get z score from the area probability\n",
    "z_critical"
   ]
  },
  {
   "cell_type": "code",
   "execution_count": 12,
   "id": "78470083",
   "metadata": {},
   "outputs": [
    {
     "data": {
      "text/plain": [
       "(2.5, 1.959963984540054)"
      ]
     },
     "execution_count": 12,
     "metadata": {},
     "output_type": "execute_result"
    }
   ],
   "source": [
    "abs(z_score), z_critical"
   ]
  },
  {
   "cell_type": "markdown",
   "id": "41e80828",
   "metadata": {},
   "source": [
    "Since z_score > z_critical, we will reject the NULL hypothesis. This means the alternate hypothesis becomes true which means the inflation is indeed higher than 10%"
   ]
  },
  {
   "cell_type": "markdown",
   "id": "1f84d991",
   "metadata": {},
   "source": [
    "### Z Test Using p-Value"
   ]
  },
  {
   "cell_type": "code",
   "execution_count": 22,
   "id": "6ada12f9",
   "metadata": {},
   "outputs": [
    {
     "data": {
      "text/plain": [
       "0.9937903346742238"
      ]
     },
     "execution_count": 22,
     "metadata": {},
     "output_type": "execute_result"
    }
   ],
   "source": [
    "from scipy import stats\n",
    "\n",
    "stats.norm.cdf(z_score)"
   ]
  },
  {
   "cell_type": "code",
   "execution_count": 14,
   "id": "73438afa",
   "metadata": {},
   "outputs": [
    {
     "data": {
      "text/plain": [
       "0.012419330651552318"
      ]
     },
     "execution_count": 14,
     "metadata": {},
     "output_type": "execute_result"
    }
   ],
   "source": [
    "p_value = 2*(1 - stats.norm.cdf(abs(z_score))) # get p value from z score\n",
    "p_value"
   ]
  },
  {
   "cell_type": "code",
   "execution_count": 15,
   "id": "1221ac79",
   "metadata": {},
   "outputs": [
    {
     "data": {
      "text/plain": [
       "(0.012419330651552318, 0.05)"
      ]
     },
     "execution_count": 15,
     "metadata": {},
     "output_type": "execute_result"
    }
   ],
   "source": [
    "p_value, alpha"
   ]
  },
  {
   "cell_type": "markdown",
   "id": "2dff4648",
   "metadata": {},
   "source": [
    "Since P value (0.012) is less than alpha (i.e. significance level -> 0.05), we reject the null hypothesis. This means there is statistically significant evidence to support the claim that the inflation rate in house prices is higher than the reported 10%."
   ]
  }
 ],
 "metadata": {
  "kernelspec": {
   "display_name": "Python 3 (ipykernel)",
   "language": "python",
   "name": "python3"
  },
  "language_info": {
   "codemirror_mode": {
    "name": "ipython",
    "version": 3
   },
   "file_extension": ".py",
   "mimetype": "text/x-python",
   "name": "python",
   "nbconvert_exporter": "python",
   "pygments_lexer": "ipython3",
   "version": "3.10.11"
  }
 },
 "nbformat": 4,
 "nbformat_minor": 5
}
