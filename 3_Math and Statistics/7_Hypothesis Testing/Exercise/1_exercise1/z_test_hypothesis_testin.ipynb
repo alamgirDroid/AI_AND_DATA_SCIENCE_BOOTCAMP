{
 "cells": [
  {
   "cell_type": "markdown",
   "id": "bb2d1de0",
   "metadata": {},
   "source": [
    "## Problem Statement\n",
    "\n",
    "You are a data scientist at a business efficiency consulting firm. Your client, a multinational corporation, has recently implemented a series of cost-saving measures across various departments.  To evaluate the impact of these initiatives, the company has compiled a sample dataset named **\"operational_costs_data.csv\"**. This sample dataset tracks the percentage reduction in operational costs for each department post-implementation of the cost-saving activities. The dataset includes the following columns:\n",
    "\n",
    "\n",
    "\n",
    "- **department_id:** A unique identifier for each department.\n",
    "- **cost_reduction_pct:** The percentage reduction in operational costs for each department following the cost-saving measures..\n",
    "\n",
    "The primary goal of the analysis is to determine whether these cost-saving measures have effectively reduced operational costs beyond the company's target of 8%. "
   ]
  },
  {
   "cell_type": "code",
   "execution_count": 3,
   "id": "b5446b12",
   "metadata": {},
   "outputs": [],
   "source": [
    "#given population parameters\n",
    "\n",
    "population_mean = 7  #(indicating an average cost reduction target of 7% before the series of cost-saving measures).\n",
    "population_std_dev = 3  #(variability)."
   ]
  },
  {
   "cell_type": "code",
   "execution_count": null,
   "id": "1aabd0f5",
   "metadata": {},
   "outputs": [],
   "source": []
  },
  {
   "cell_type": "markdown",
   "id": "7249963f",
   "metadata": {},
   "source": [
    "**Import Necessary Libraries**"
   ]
  },
  {
   "cell_type": "code",
   "execution_count": 1,
   "id": "b8f4bbb7",
   "metadata": {},
   "outputs": [],
   "source": [
    "import pandas as pd\n",
    "import numpy as np\n",
    "from scipy import stats"
   ]
  },
  {
   "cell_type": "code",
   "execution_count": null,
   "id": "ae105ef0",
   "metadata": {},
   "outputs": [],
   "source": []
  },
  {
   "cell_type": "markdown",
   "id": "132dcd04",
   "metadata": {},
   "source": [
    "### Task1: Data Import\n",
    "\n",
    "1. Import the data from the \"operational_costs_data.csv\" file.\n",
    "2. display the number of rows and columns. \n",
    "3. Display the first few rows of the dataset to get an overview.\n"
   ]
  },
  {
   "cell_type": "code",
   "execution_count": 2,
   "id": "0c6e1829",
   "metadata": {},
   "outputs": [
    {
     "name": "stdout",
     "output_type": "stream",
     "text": [
      "(100, 2)\n"
     ]
    },
    {
     "data": {
      "text/html": [
       "<div>\n",
       "<style scoped>\n",
       "    .dataframe tbody tr th:only-of-type {\n",
       "        vertical-align: middle;\n",
       "    }\n",
       "\n",
       "    .dataframe tbody tr th {\n",
       "        vertical-align: top;\n",
       "    }\n",
       "\n",
       "    .dataframe thead th {\n",
       "        text-align: right;\n",
       "    }\n",
       "</style>\n",
       "<table border=\"1\" class=\"dataframe\">\n",
       "  <thead>\n",
       "    <tr style=\"text-align: right;\">\n",
       "      <th></th>\n",
       "      <th>department_id</th>\n",
       "      <th>cost_reduction_pct</th>\n",
       "    </tr>\n",
       "  </thead>\n",
       "  <tbody>\n",
       "    <tr>\n",
       "      <th>0</th>\n",
       "      <td>D001</td>\n",
       "      <td>7.40</td>\n",
       "    </tr>\n",
       "    <tr>\n",
       "      <th>1</th>\n",
       "      <td>D002</td>\n",
       "      <td>11.31</td>\n",
       "    </tr>\n",
       "    <tr>\n",
       "      <th>2</th>\n",
       "      <td>D003</td>\n",
       "      <td>10.78</td>\n",
       "    </tr>\n",
       "    <tr>\n",
       "      <th>3</th>\n",
       "      <td>D004</td>\n",
       "      <td>8.79</td>\n",
       "    </tr>\n",
       "    <tr>\n",
       "      <th>4</th>\n",
       "      <td>D005</td>\n",
       "      <td>3.29</td>\n",
       "    </tr>\n",
       "  </tbody>\n",
       "</table>\n",
       "</div>"
      ],
      "text/plain": [
       "  department_id  cost_reduction_pct\n",
       "0          D001                7.40\n",
       "1          D002               11.31\n",
       "2          D003               10.78\n",
       "3          D004                8.79\n",
       "4          D005                3.29"
      ]
     },
     "execution_count": 2,
     "metadata": {},
     "output_type": "execute_result"
    }
   ],
   "source": [
    "df = pd.read_csv(\"operational_costs_data.csv\")\n",
    "print(df.shape)\n",
    "df.head()"
   ]
  },
  {
   "cell_type": "markdown",
   "id": "2b31591f",
   "metadata": {},
   "source": [
    "### Task2: Define Hypotheses\n",
    "\n",
    "- State the null and alternative hypotheses based on the given scenario."
   ]
  },
  {
   "cell_type": "markdown",
   "id": "657cf4a6",
   "metadata": {},
   "source": [
    "\n",
    "**Null Hypothesis (H0):** The reduction in average monthly operational costs is less than or equal to 8%.\n",
    "\n",
    "**Alternative Hypothesis (Ha):** The reduction in average monthly operational costs is greater than 8%.\n"
   ]
  },
  {
   "cell_type": "markdown",
   "id": "b060774c",
   "metadata": {},
   "source": [
    "### Task3: Calculate Test Statistics\n",
    "\n",
    "- Compute the sample mean of cost_reduction_pct.\n",
    "- Determine the sample size.\n",
    "- Calculate the standard error using the provided population standard deviation.\n",
    "- Compute the Z-score for the test statistic"
   ]
  },
  {
   "cell_type": "code",
   "execution_count": 4,
   "id": "a3cbe355",
   "metadata": {},
   "outputs": [
    {
     "data": {
      "text/plain": [
       "7.2562"
      ]
     },
     "execution_count": 4,
     "metadata": {},
     "output_type": "execute_result"
    }
   ],
   "source": [
    "#1. sample mean of cost_reduction_pct\n",
    "\n",
    "sample_mean = df.cost_reduction_pct.mean()\n",
    "sample_mean"
   ]
  },
  {
   "cell_type": "code",
   "execution_count": 6,
   "id": "a23a83c6",
   "metadata": {},
   "outputs": [
    {
     "data": {
      "text/plain": [
       "100"
      ]
     },
     "execution_count": 6,
     "metadata": {},
     "output_type": "execute_result"
    }
   ],
   "source": [
    "#2. sample size\n",
    "sample_size = df.shape[0]\n",
    "sample_size"
   ]
  },
  {
   "cell_type": "code",
   "execution_count": 7,
   "id": "eda96ec3",
   "metadata": {},
   "outputs": [
    {
     "data": {
      "text/plain": [
       "0.3"
      ]
     },
     "execution_count": 7,
     "metadata": {},
     "output_type": "execute_result"
    }
   ],
   "source": [
    "#3. standard error\n",
    "standard_error = population_std_dev/np.sqrt(sample_size)\n",
    "standard_error"
   ]
  },
  {
   "cell_type": "code",
   "execution_count": 9,
   "id": "851dd098",
   "metadata": {},
   "outputs": [
    {
     "data": {
      "text/plain": [
       "0.85"
      ]
     },
     "execution_count": 9,
     "metadata": {},
     "output_type": "execute_result"
    }
   ],
   "source": [
    "#4. z_score\n",
    "\n",
    "z_score = round((sample_mean-population_mean)/standard_error, 2)\n",
    "z_score"
   ]
  },
  {
   "cell_type": "markdown",
   "id": "d94cac8c",
   "metadata": {},
   "source": [
    "### Task4: Determine Z-critical Value\n",
    "\n",
    "- Set the significance level (e.g., alpha = 0.05).\n",
    "- Find the critical Z-value corresponding to this alpha level."
   ]
  },
  {
   "cell_type": "code",
   "execution_count": 10,
   "id": "b88f5294",
   "metadata": {},
   "outputs": [
    {
     "data": {
      "text/plain": [
       "0.05"
      ]
     },
     "execution_count": 10,
     "metadata": {},
     "output_type": "execute_result"
    }
   ],
   "source": [
    "#defining significance level\n",
    "alpha = 0.05 # alpha means significance level\n",
    "alpha"
   ]
  },
  {
   "cell_type": "code",
   "execution_count": 11,
   "id": "9e849a40",
   "metadata": {},
   "outputs": [
    {
     "data": {
      "text/plain": [
       "1.6448536269514722"
      ]
     },
     "execution_count": 11,
     "metadata": {},
     "output_type": "execute_result"
    }
   ],
   "source": [
    "#critical value\n",
    "z_critical = stats.norm.ppf(1-alpha) # get z score from the area probability\n",
    "z_critical"
   ]
  },
  {
   "cell_type": "markdown",
   "id": "a742a7d4",
   "metadata": {},
   "source": [
    "### Task5: Decision Making\n",
    "\n",
    "- Compare the calculated Z-score with the critical Z-value.\n",
    "- Decide whether to reject or fail to reject the null hypothesis.\n",
    "- Write a conclusion summarizing the findings."
   ]
  },
  {
   "cell_type": "code",
   "execution_count": 12,
   "id": "9f856f7b",
   "metadata": {},
   "outputs": [
    {
     "data": {
      "text/plain": [
       "(0.85, 1.6448536269514722)"
      ]
     },
     "execution_count": 12,
     "metadata": {},
     "output_type": "execute_result"
    }
   ],
   "source": [
    "z_score, z_critical"
   ]
  },
  {
   "cell_type": "markdown",
   "id": "232ec8fc",
   "metadata": {},
   "source": [
    "## Summary\n",
    "\n",
    "\n",
    "**Hypothesis:**\n",
    "- Null Hypothesis (H0): Average monthly operational cost reduction ≤ 8%.\n",
    "- Alternative Hypothesis (Ha): Average monthly operational cost reduction > 8%.\n",
    "\n",
    "\n",
    "**Findings:**\n",
    "- Calculated Z-Score: 0.85\n",
    "- Critical Z-Value: 1.645\n",
    "\n",
    "\n",
    "**Conclusion:** \n",
    "-  z_score < z_critical\n",
    "- Since the Z-Score (0.85) is less than the Critical Z-Value (1.645), we do not have sufficient evidence to reject the Null Hypothesis. This suggests that the cost-saving measures did not significantly reduce operational costs beyond the 8% target."
   ]
  }
 ],
 "metadata": {
  "kernelspec": {
   "display_name": "Python 3 (ipykernel)",
   "language": "python",
   "name": "python3"
  },
  "language_info": {
   "codemirror_mode": {
    "name": "ipython",
    "version": 3
   },
   "file_extension": ".py",
   "mimetype": "text/x-python",
   "name": "python",
   "nbconvert_exporter": "python",
   "pygments_lexer": "ipython3",
   "version": "3.13.3"
  },
  "widgets": {
   "application/vnd.jupyter.widget-state+json": {
    "state": {},
    "version_major": 2,
    "version_minor": 0
   }
  }
 },
 "nbformat": 4,
 "nbformat_minor": 5
}
