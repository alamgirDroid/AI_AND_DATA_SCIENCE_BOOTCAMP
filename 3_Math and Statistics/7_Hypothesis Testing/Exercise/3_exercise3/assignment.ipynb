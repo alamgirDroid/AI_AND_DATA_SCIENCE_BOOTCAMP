{
 "cells": [
  {
   "cell_type": "markdown",
   "id": "c3ea4b15",
   "metadata": {},
   "source": [
    "## Problem Statement\n",
    "\n",
    "An e-commerce company is evaluating two different website designs to see which one results in higher customer engagement. Design A is the current design, while Design B incorporates new features aimed at improving user experience. The company hypothesizes that Design B will lead to a higher average time spent on the website by users.\n",
    "\n",
    "**Datasets:**\n",
    "- current_design.csv: Contains data for user interactions with the current website design (Design A), with columns user_id and time_spent_minutes.\n",
    "- new_design.csv: Contains data for user interactions with the new website design (Design B), with columns user_id and time_spent_minutes.\n",
    "\n",
    "**Objective:**\n",
    "- To determine whether Design B results in a higher average time spent on the website compared to Design A."
   ]
  },
  {
   "cell_type": "code",
   "execution_count": null,
   "id": "75cb8ecf",
   "metadata": {},
   "outputs": [],
   "source": []
  },
  {
   "cell_type": "markdown",
   "id": "f65e695c",
   "metadata": {},
   "source": [
    "**Steps to perform:**\n",
    "- Set the null and alternate hypothesis for this analysis.\n",
    "- Load the datasets current_design.csv and new_design.csv.\n",
    "- Calculate the mean and standard deviation of the time spent for both designs.\n",
    "- Determine the sizes of both groups.\n",
    "- Calculate the z-score to compare the means of both groups.\n",
    "- Set the significance level (alpha) at 5% for a right-tailed test.\n",
    "- Calculate the critical z-value for the right-tailed test at the 5% significance level.\n",
    "- Compare the calculated z-score with the critical z-value to decide whether to reject the null hypothesis.\n",
    "- Write down your observations in the end."
   ]
  },
  {
   "cell_type": "markdown",
   "id": "9380d463",
   "metadata": {},
   "source": [
    "**Import Necessary Libraries**"
   ]
  },
  {
   "cell_type": "code",
   "execution_count": 15,
   "id": "73fb5836",
   "metadata": {},
   "outputs": [],
   "source": [
    "import pandas as pd\n",
    "import numpy as np\n",
    "from scipy import stats as st"
   ]
  },
  {
   "cell_type": "markdown",
   "id": "883c7963",
   "metadata": {},
   "source": [
    "**Define hypothesis**\n",
    "\n",
    "- Null Hypothesis (H0): Design B does not lead to a higher average time spent on the website compared to Design A (mean_DesignB <= mean_DesignA).\n",
    "- Alternate Hypothesis (H1): Design B leads to a higher average time spent on the website compared to Design A (mean_DesignB > mean_DesignA)."
   ]
  },
  {
   "cell_type": "markdown",
   "id": "ee2a6dfd",
   "metadata": {},
   "source": [
    "**1: Load the datasets**"
   ]
  },
  {
   "cell_type": "code",
   "execution_count": 16,
   "id": "8e1d742f",
   "metadata": {},
   "outputs": [],
   "source": [
    "\n",
    "control = pd.read_csv(\"current_design.csv\")\n",
    "test = pd.read_csv(\"new_design.csv\")"
   ]
  },
  {
   "cell_type": "code",
   "execution_count": 17,
   "id": "8e46fc4e",
   "metadata": {},
   "outputs": [
    {
     "name": "stdout",
     "output_type": "stream",
     "text": [
      "(100, 2)\n"
     ]
    },
    {
     "data": {
      "text/html": [
       "<div>\n",
       "<style scoped>\n",
       "    .dataframe tbody tr th:only-of-type {\n",
       "        vertical-align: middle;\n",
       "    }\n",
       "\n",
       "    .dataframe tbody tr th {\n",
       "        vertical-align: top;\n",
       "    }\n",
       "\n",
       "    .dataframe thead th {\n",
       "        text-align: right;\n",
       "    }\n",
       "</style>\n",
       "<table border=\"1\" class=\"dataframe\">\n",
       "  <thead>\n",
       "    <tr style=\"text-align: right;\">\n",
       "      <th></th>\n",
       "      <th>user_id</th>\n",
       "      <th>time_spent_minutes</th>\n",
       "    </tr>\n",
       "  </thead>\n",
       "  <tbody>\n",
       "    <tr>\n",
       "      <th>0</th>\n",
       "      <td>C001</td>\n",
       "      <td>5.93</td>\n",
       "    </tr>\n",
       "    <tr>\n",
       "      <th>1</th>\n",
       "      <td>C002</td>\n",
       "      <td>5.21</td>\n",
       "    </tr>\n",
       "    <tr>\n",
       "      <th>2</th>\n",
       "      <td>C003</td>\n",
       "      <td>5.07</td>\n",
       "    </tr>\n",
       "    <tr>\n",
       "      <th>3</th>\n",
       "      <td>C004</td>\n",
       "      <td>5.06</td>\n",
       "    </tr>\n",
       "    <tr>\n",
       "      <th>4</th>\n",
       "      <td>C005</td>\n",
       "      <td>6.33</td>\n",
       "    </tr>\n",
       "  </tbody>\n",
       "</table>\n",
       "</div>"
      ],
      "text/plain": [
       "  user_id  time_spent_minutes\n",
       "0    C001                5.93\n",
       "1    C002                5.21\n",
       "2    C003                5.07\n",
       "3    C004                5.06\n",
       "4    C005                6.33"
      ]
     },
     "execution_count": 17,
     "metadata": {},
     "output_type": "execute_result"
    }
   ],
   "source": [
    "print(control.shape)\n",
    "control.head()"
   ]
  },
  {
   "cell_type": "code",
   "execution_count": 18,
   "id": "78d543cb",
   "metadata": {},
   "outputs": [
    {
     "name": "stdout",
     "output_type": "stream",
     "text": [
      "(100, 2)\n"
     ]
    },
    {
     "data": {
      "text/html": [
       "<div>\n",
       "<style scoped>\n",
       "    .dataframe tbody tr th:only-of-type {\n",
       "        vertical-align: middle;\n",
       "    }\n",
       "\n",
       "    .dataframe tbody tr th {\n",
       "        vertical-align: top;\n",
       "    }\n",
       "\n",
       "    .dataframe thead th {\n",
       "        text-align: right;\n",
       "    }\n",
       "</style>\n",
       "<table border=\"1\" class=\"dataframe\">\n",
       "  <thead>\n",
       "    <tr style=\"text-align: right;\">\n",
       "      <th></th>\n",
       "      <th>user_id</th>\n",
       "      <th>time_spent_minutes</th>\n",
       "    </tr>\n",
       "  </thead>\n",
       "  <tbody>\n",
       "    <tr>\n",
       "      <th>0</th>\n",
       "      <td>T001</td>\n",
       "      <td>7.49</td>\n",
       "    </tr>\n",
       "    <tr>\n",
       "      <th>1</th>\n",
       "      <td>T002</td>\n",
       "      <td>7.37</td>\n",
       "    </tr>\n",
       "    <tr>\n",
       "      <th>2</th>\n",
       "      <td>T003</td>\n",
       "      <td>7.32</td>\n",
       "    </tr>\n",
       "    <tr>\n",
       "      <th>3</th>\n",
       "      <td>T004</td>\n",
       "      <td>6.85</td>\n",
       "    </tr>\n",
       "    <tr>\n",
       "      <th>4</th>\n",
       "      <td>T005</td>\n",
       "      <td>7.10</td>\n",
       "    </tr>\n",
       "  </tbody>\n",
       "</table>\n",
       "</div>"
      ],
      "text/plain": [
       "  user_id  time_spent_minutes\n",
       "0    T001                7.49\n",
       "1    T002                7.37\n",
       "2    T003                7.32\n",
       "3    T004                6.85\n",
       "4    T005                7.10"
      ]
     },
     "execution_count": 18,
     "metadata": {},
     "output_type": "execute_result"
    }
   ],
   "source": [
    "print(test.shape)\n",
    "test.head()"
   ]
  },
  {
   "cell_type": "markdown",
   "id": "c6604068",
   "metadata": {},
   "source": [
    "**2: Calculate the mean and standard deviation of the time spent for both designs.**"
   ]
  },
  {
   "cell_type": "code",
   "execution_count": 19,
   "id": "438563df",
   "metadata": {},
   "outputs": [
    {
     "data": {
      "text/plain": [
       "(6.02, 0.62, 100)"
      ]
     },
     "execution_count": 19,
     "metadata": {},
     "output_type": "execute_result"
    }
   ],
   "source": [
    "#control statistics\n",
    "\n",
    "control_mean = control.time_spent_minutes.mean().round(2)\n",
    "control_std = control.time_spent_minutes.std().round(2)\n",
    "control_size = control.shape[0]\n",
    "control_mean, control_std, control_size"
   ]
  },
  {
   "cell_type": "code",
   "execution_count": 20,
   "id": "e1d44a29",
   "metadata": {},
   "outputs": [
    {
     "data": {
      "text/plain": [
       "(8.06, 0.9, 100)"
      ]
     },
     "execution_count": 20,
     "metadata": {},
     "output_type": "execute_result"
    }
   ],
   "source": [
    "#test statistics\n",
    "\n",
    "test_mean = test.time_spent_minutes.mean().round(2)\n",
    "test_std = test.time_spent_minutes.std().round(2)\n",
    "test_size = test.shape[0] \n",
    "test_mean, test_std, test_size"
   ]
  },
  {
   "cell_type": "markdown",
   "id": "e072baef",
   "metadata": {},
   "source": [
    "**3: Test using rejection region (i.e. critical z value)**"
   ]
  },
  {
   "cell_type": "code",
   "execution_count": 21,
   "id": "bc9f8490",
   "metadata": {},
   "outputs": [
    {
     "data": {
      "text/plain": [
       "18.66617228956536"
      ]
     },
     "execution_count": 21,
     "metadata": {},
     "output_type": "execute_result"
    }
   ],
   "source": [
    "a = (control_std**2/control_size)\n",
    "b = (test_std**2/test_size)\n",
    "\n",
    "Z_score = (test_mean - control_mean)/np.sqrt(a+b)\n",
    "Z_score"
   ]
  },
  {
   "cell_type": "code",
   "execution_count": 22,
   "id": "4796efce",
   "metadata": {},
   "outputs": [
    {
     "data": {
      "text/plain": [
       "1.6448536269514722"
      ]
     },
     "execution_count": 22,
     "metadata": {},
     "output_type": "execute_result"
    }
   ],
   "source": [
    "# For a significance level of 5% (0.05) in a right-tailed test, the critical Z-value is approximately 1.645\n",
    "\n",
    "alpha = 0.05 # significance level of 5%\n",
    "\n",
    "critical_z_value = st.norm.ppf(1 - alpha)  # Right-tailed test at 5% significance level\n",
    "critical_z_value"
   ]
  },
  {
   "cell_type": "code",
   "execution_count": 23,
   "id": "6776d9ea",
   "metadata": {},
   "outputs": [
    {
     "data": {
      "text/plain": [
       "True"
      ]
     },
     "execution_count": 23,
     "metadata": {},
     "output_type": "execute_result"
    }
   ],
   "source": [
    "Z_score > critical_z_value"
   ]
  },
  {
   "cell_type": "markdown",
   "id": "059d2a4f",
   "metadata": {},
   "source": [
    "### Observations and Conclusion\n",
    "\n",
    "- As you can see above, since the Z score is higher than the critical z value, it falls inside the rejection region. Hence we will reject our null hypothesis and accept the alternate hypothesis that Design B leads to a higher average time spent on the website compared to Design A"
   ]
  }
 ],
 "metadata": {
  "kernelspec": {
   "display_name": "Python 3 (ipykernel)",
   "language": "python",
   "name": "python3"
  },
  "language_info": {
   "codemirror_mode": {
    "name": "ipython",
    "version": 3
   },
   "file_extension": ".py",
   "mimetype": "text/x-python",
   "name": "python",
   "nbconvert_exporter": "python",
   "pygments_lexer": "ipython3",
   "version": "3.13.3"
  },
  "widgets": {
   "application/vnd.jupyter.widget-state+json": {
    "state": {},
    "version_major": 2,
    "version_minor": 0
   }
  }
 },
 "nbformat": 4,
 "nbformat_minor": 5
}
