{
 "cells": [
  {
   "cell_type": "markdown",
   "id": "ecc8516a",
   "metadata": {},
   "source": [
    "### Chi squared test of goodness of fit \n",
    "\n",
    "In this notebook, we will use chi squared goodness of fit test to figure out if phones are selling as per expected numbers or not. We have total 4 types of phones. For further details, refer to the relavant video in the course (from codebasics.io)"
   ]
  },
  {
   "cell_type": "code",
   "execution_count": 1,
   "id": "d8883b8b",
   "metadata": {
    "scrolled": true
   },
   "outputs": [
    {
     "data": {
      "text/plain": [
       "(np.float64(2.232142857142857), np.float64(0.5256450109609307))"
      ]
     },
     "execution_count": 1,
     "metadata": {},
     "output_type": "execute_result"
    }
   ],
   "source": [
    "import numpy as np\n",
    "\n",
    "expected = np.array([40, 60, 30, 70])\n",
    "actual = np.array([45, 55, 35, 65])\n",
    "\n",
    "import scipy.stats as stats\n",
    "\n",
    "chi_square_statistic, p_value = stats.chisquare(actual, expected)\n",
    "chi_square_statistic, p_value"
   ]
  },
  {
   "cell_type": "code",
   "execution_count": 2,
   "id": "3ca4bec6",
   "metadata": {},
   "outputs": [
    {
     "data": {
      "text/plain": [
       "np.False_"
      ]
     },
     "execution_count": 2,
     "metadata": {},
     "output_type": "execute_result"
    }
   ],
   "source": [
    "significance_level = 0.05\n",
    "\n",
    "p_value < significance_level"
   ]
  },
  {
   "cell_type": "markdown",
   "id": "a1ee5bbb",
   "metadata": {},
   "source": [
    "p value is not less than significance level which means that we can not reject null hypothesis. Meaning that expected numbers are not good and they do not represent the reality"
   ]
  }
 ],
 "metadata": {
  "kernelspec": {
   "display_name": "Python 3 (ipykernel)",
   "language": "python",
   "name": "python3"
  },
  "language_info": {
   "codemirror_mode": {
    "name": "ipython",
    "version": 3
   },
   "file_extension": ".py",
   "mimetype": "text/x-python",
   "name": "python",
   "nbconvert_exporter": "python",
   "pygments_lexer": "ipython3",
   "version": "3.13.3"
  },
  "widgets": {
   "application/vnd.jupyter.widget-state+json": {
    "state": {},
    "version_major": 2,
    "version_minor": 0
   }
  }
 },
 "nbformat": 4,
 "nbformat_minor": 5
}
